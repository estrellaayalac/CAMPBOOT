{
 "cells": [
  {
   "cell_type": "code",
   "execution_count": null,
   "metadata": {},
   "outputs": [],
   "source": []
  },
  {
   "cell_type": "markdown",
   "metadata": {},
   "source": [
    "LIBRERIAS "
   ]
  },
  {
   "cell_type": "markdown",
   "metadata": {},
   "source": [
    "#QUE SON LAS LIBRERIAS?"
   ]
  },
  {
   "cell_type": "code",
   "execution_count": 12,
   "metadata": {},
   "outputs": [
    {
     "name": "stdout",
     "output_type": "stream",
     "text": [
      "la palabra secreta es cielo\n"
     ]
    }
   ],
   "source": [
    " import random #llamada a la libreria\n",
    "\n",
    "#Generar palabra al azar segun cantidad de elementos \n",
    "lista_de_palabras = [\"serio\",\"peras\",\"cielo\"]\n",
    "#paso 1 generar int random\n",
    "cant_elementos = len(lista_de_palabras) #len actualiya la cantidad de elementos\n",
    "indice_random = random.randint(0, cant_elementos -1)\n",
    "\n",
    "#paso 2 \n",
    "palabra_sorteada = lista_de_palabras[indice_random]\n",
    "\n",
    "#paso 3: imprimir\n",
    "print(\"la palabra secreta es\", palabra_sorteada)"
   ]
  },
  {
   "cell_type": "code",
   "execution_count": 25,
   "metadata": {},
   "outputs": [
    {
     "name": "stdout",
     "output_type": "stream",
     "text": [
      "fallaste te quedan 4\n",
      "el valor es menor\n",
      "fallaste te quedan 3\n",
      "el valor es menor\n",
      "ganaste\n"
     ]
    }
   ],
   "source": [
    "###Programa para adivinar numero\n",
    "\n",
    "#Pedir un numero al usuario\n",
    "numero_al_azar = int(input(\"Ingresa un numero al azar del 1 al 1000\"))\n",
    "#Crear un numero al azar entre 1-1000\n",
    "import random\n",
    "numero_ganador= random.randint(1,10)\n",
    "intentos = 4\n",
    "if numero_al_azar == numero_ganador:\n",
    "    print(\"ganaste\")\n",
    "##empiezo el juego con while \n",
    "while numero_al_azar != numero_ganador :\n",
    "    print(\"fallaste te quedan\", intentos)\n",
    "    intentos = intentos - 1\n",
    "    if numero_al_azar < numero_ganador : \n",
    "        print(\"el valor es mayor\")\n",
    "    else :\n",
    "        print(\"el valor es menor\")\n",
    "    numero_al_azar= int(input(\"Ingresa de vuelta numero al azar del 1 al 1000\"))\n",
    "    if numero_al_azar == numero_ganador:\n",
    "        print(\"ganaste\")\n",
    "        break\n",
    "    if intentos == 0:\n",
    "        print (\"perdiste bro\")\n",
    "        break\n",
    "\n",
    "\n",
    "\n",
    "\n",
    "\n",
    "##Preguntar si acerto o no \n",
    "### Si fallo, decirle si es para arriba o para abajo\n",
    "## Termina despues de 5 intentos fallidos\n",
    "\n",
    "# Pedir 1 numero al azar\n"
   ]
  },
  {
   "cell_type": "code",
   "execution_count": 31,
   "metadata": {},
   "outputs": [
    {
     "name": "stdout",
     "output_type": "stream",
     "text": [
      "fallaste, te quedan  4\n",
      "el numero ingresado es menor\n",
      "fallaste, te quedan  3\n",
      "el numero ingresado es menor\n",
      "fallaste, te quedan  2\n",
      "el numero ingresado es menor\n",
      "fallaste, te quedan  1\n",
      "el numero ingresado es menor\n",
      "perdiste\n",
      "fallaste, te quedan  0\n",
      "el numero ingresado es menor\n",
      "fallaste, te quedan  -1\n",
      "el numero ingresado es menor\n"
     ]
    }
   ],
   "source": [
    "#Pedir un numero al usuario\n",
    "numero_ingresado = int(input(\"ingrese un nro\"))\n",
    "import random\n",
    "numero_ganador = random.randint(1,1000)\n",
    "#Crear un numero al azar entre 1-1000\n",
    "##empiezo el juego con while \n",
    "intentos = 4\n",
    "while numero_ingresado != numero_ganador :\n",
    "    print (\"fallaste, te quedan \", intentos)\n",
    "    intentos = intentos - 1\n",
    "    if numero_ingresado < numero_ganador :\n",
    "        print(\"el numero ingresado es menor\")\n",
    "    else :\n",
    "        print(\"el numero ingresado es mayor\")\n",
    "    numero_al_azar = int(input(\"Ingresa de vuelta\"))\n",
    "    if  numero_ingresado == numero_ganador :\n",
    "        print (\"ganaste\")\n",
    "        break\n",
    "    if intentos == 0 : \n",
    "        print(\"perdiste\")\n",
    "\n",
    "else:\n",
    "    print(\"ganaste\")\n",
    "\n",
    "##Preguntar si acerto o no r\n",
    "### Si fallo, decirle si es para arriba o para abajo\n",
    "## Termina despues de 5 intentos fallidos\n",
    "\n",
    "# Pedir 1 numero al azar"
   ]
  },
  {
   "cell_type": "code",
   "execution_count": null,
   "metadata": {},
   "outputs": [],
   "source": [
    "while true:\n",
    "    if input_intento == nro_a_adivinar \n",
    "    "
   ]
  }
 ],
 "metadata": {
  "interpreter": {
   "hash": "916dbcbb3f70747c44a77c7bcd40155683ae19c65e1c03b4aa3499c5328201f1"
  },
  "kernelspec": {
   "display_name": "Python 3.8.10 64-bit",
   "language": "python",
   "name": "python3"
  },
  "language_info": {
   "codemirror_mode": {
    "name": "ipython",
    "version": 3
   },
   "file_extension": ".py",
   "mimetype": "text/x-python",
   "name": "python",
   "nbconvert_exporter": "python",
   "pygments_lexer": "ipython3",
   "version": "3.8.10"
  },
  "orig_nbformat": 4
 },
 "nbformat": 4,
 "nbformat_minor": 2
}
