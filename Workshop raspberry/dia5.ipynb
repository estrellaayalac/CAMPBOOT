{
 "cells": [
  {
   "cell_type": "code",
   "execution_count": 17,
   "metadata": {},
   "outputs": [
    {
     "name": "stdout",
     "output_type": "stream",
     "text": [
      "creando a pinguino: 'enri'emperador\n",
      "<class '__main__.Penguin'>\n",
      "Ave\n",
      "Ave\n",
      "enri\n",
      "wooosshhh\n",
      "Estoy nadando\n",
      "Caminando + str(10) pasos, lenta y torpemente\n",
      "Caminando10pasos, lenta y torpemente\n"
     ]
    }
   ],
   "source": [
    "#Programacion orientada a objetos\n",
    "#ATributos de instancia va aser de instancia de la clase o al objeti. Son atributos particulares de cada instancia, en nuestro caso de cada pinguino.\n",
    "#ATributos de clase: se trata de atribtos que pertenecen a la clase, por lo tanto seran comunes para todos los objetos. Tiene que ser ave \n",
    "#Creando una clase que esta vacia, una categoria de objeto en el cual atribuyen objetos . Una forma de galletita va a tener diferentes atributos unade chocolate, vainilla\n",
    "class Penguin: #clase siempre en mayuscula, Penguin es un objeto\n",
    "    pass\n",
    "\n",
    "#creamos un objeto de la clase penguin, creando replicas del penguino segun lo que yo defino\n",
    "mi_pinguino = Penguin()\n",
    "\n",
    "class Penguin :\n",
    "    #Definiendo un atributo de clase \n",
    "    categoria = \"Ave\"\n",
    "\n",
    "#El metodo init es llamado a crear el objeto\n",
    "    def __init__ (self,nombre,especie) :\n",
    "        print(\"creando a pinguino: \"+ \"'\"+nombre + \"'\" + especie)\n",
    "\n",
    "#ATribtos de instancia #tien qe estar identado\n",
    "        self.nombre = nombre #self es que se referencia a si mismo\n",
    "        self.especie = especie \n",
    "\n",
    "\n",
    "    def nada(self): # nada es el nombre qe usas para identificar que hace \n",
    "        print(\"wooosshhh\")\n",
    "        print(\"Estoy nadando\")\n",
    "\n",
    "    def camina(self,pasos): #camina es mi metodo y pasos es mi parametro\n",
    "        print(f\"Caminando + str({pasos}) pasos, lenta y torpemente\") #f es una alternativa de format\n",
    "        print(\"Caminando\" + str (pasos) + \"pasos, lenta y torpemente\")\n",
    "#CReando un penguino\n",
    "mi_pinguino = Penguin(\"enri\", \"emperador\")\n",
    "\n",
    "#viendoque tipo de dato es mi_penguino\n",
    "print(type(mi_pinguino))\n",
    "\n",
    "#Viendo que clase de animal es \n",
    "print(Penguin.categoria)\n",
    "print (mi_pinguino.categoria)\n",
    "print(mi_pinguino.nombre)\n",
    "\n",
    "\n",
    "#Metodos de nestro pinguino\n",
    "mi_pinguino.nada()\n",
    "mi_pinguino.camina(10)\n",
    "\n"
   ]
  },
  {
   "cell_type": "code",
   "execution_count": 65,
   "metadata": {},
   "outputs": [
    {
     "name": "stdout",
     "output_type": "stream",
     "text": [
      "Me llamo sra mili y soy un gato de color blanco\n",
      "<class '__main__.Gatish'>\n",
      "gato\n",
      "sra mili \n",
      "CUANDO HABLO DIGO hicuando me muevo camino\n"
     ]
    }
   ],
   "source": [
    "class Gatish :\n",
    "    especimen = \"gato\"\n",
    "\n",
    "\n",
    "    def __init__(self,nombre,color): \n",
    "    #especimen = \"gato\"\n",
    "        self.nombre = nombre\n",
    "        self.color = color\n",
    "        print(\"Me llamo \" + nombre + \"y soy un \" + Gatish.especimen + \" de color \" + color) #De gatish traeme su especie\n",
    "    def hablar (self):\n",
    "        return \"hi \"\n",
    "    def moverse (self):\n",
    "        return \"camino\"\n",
    "\n",
    "mi_gato = Gatish(\"sra mili \", \"blanco\") #mi objeto es mi gato, mi clase es gatish, yo quiero saber el nombre de mi objeto\n",
    "print(type(mi_gato)) #el tipo de dato que es\n",
    "print(Gatish.especimen) \n",
    "\n",
    "print(mi_gato.nombre) #yo le asigno a mi_gato entonces es por eso que llamo a ese objeto\n",
    "\n",
    "print(\"CUANDO HABLO DIGO \" + mi_gato.hablar()+ \"cuando me muevo \" + mi_gato.moverse())"
   ]
  },
  {
   "cell_type": "code",
   "execution_count": 73,
   "metadata": {},
   "outputs": [
    {
     "name": "stdout",
     "output_type": "stream",
     "text": [
      "<class '__main__.Pescado'>\n",
      "pez\n",
      "Me llamo Nemo y soy un pez de color rojo\n",
      "Nemo \n",
      "Cuando hablo Hola Cuando me muevo Salto\n"
     ]
    },
    {
     "ename": "AttributeError",
     "evalue": "'Pescado' object has no attribute 'hablando'",
     "output_type": "error",
     "traceback": [
      "\u001b[0;31m---------------------------------------------------------------------------\u001b[0m",
      "\u001b[0;31mAttributeError\u001b[0m                            Traceback (most recent call last)",
      "\u001b[1;32m/home/labdoo/Escritorio/Workshop raspberry/dia5.ipynb Cell 3'\u001b[0m in \u001b[0;36m<cell line: 30>\u001b[0;34m()\u001b[0m\n\u001b[1;32m     <a href='vscode-notebook-cell:/home/labdoo/Escritorio/Workshop%20raspberry/dia5.ipynb#ch0000003?line=27'>28</a>\u001b[0m \u001b[39mprint\u001b[39m(\u001b[39m\"\u001b[39m\u001b[39mCuando hablo \u001b[39m\u001b[39m\"\u001b[39m \u001b[39m+\u001b[39m mi_pez\u001b[39m.\u001b[39mhablar() \u001b[39m+\u001b[39m \u001b[39m\"\u001b[39m\u001b[39mCuando me muevo \u001b[39m\u001b[39m\"\u001b[39m \u001b[39m+\u001b[39m mi_pez\u001b[39m.\u001b[39mMoverse()) \u001b[39m#parentesis pq es una accion osea un metodo\u001b[39;00m\n\u001b[1;32m     <a href='vscode-notebook-cell:/home/labdoo/Escritorio/Workshop%20raspberry/dia5.ipynb#ch0000003?line=28'>29</a>\u001b[0m \u001b[39m#METODO #2\u001b[39;00m\n\u001b[0;32m---> <a href='vscode-notebook-cell:/home/labdoo/Escritorio/Workshop%20raspberry/dia5.ipynb#ch0000003?line=29'>30</a>\u001b[0m mi_pez\u001b[39m.\u001b[39;49mhablando(\u001b[39m\"\u001b[39m\u001b[39mhola\u001b[39m\u001b[39m\"\u001b[39m)\n\u001b[1;32m     <a href='vscode-notebook-cell:/home/labdoo/Escritorio/Workshop%20raspberry/dia5.ipynb#ch0000003?line=30'>31</a>\u001b[0m mi_pez\u001b[39m.\u001b[39mmoviendose(\u001b[39m\"\u001b[39m\u001b[39mcorre\u001b[39m\u001b[39m\"\u001b[39m)\n",
      "\u001b[0;31mAttributeError\u001b[0m: 'Pescado' object has no attribute 'hablando'"
     ]
    }
   ],
   "source": [
    "\n",
    "\n",
    "class Pescado : #Pescado es mi clase\n",
    "    especimen = \"pez\" #pez es mi atributo de clase\n",
    "\n",
    "\n",
    "    def __init__(self,nombre,color): #Se define la funcion que llama a nombre y color\n",
    "        self.nombre = nombre #self llama a nombre \n",
    "        self.color = color #self llama a color\n",
    "#METODOS #1\n",
    "    def hablar(self): #Defino mi accion \n",
    "        return \"Hola \"\n",
    "    def Moverse (self): #\n",
    "        return \"Salto\"\n",
    "#METODOS #2\n",
    "    def habla(self,hablando):\n",
    "        print(\"Cuando hablo\" + hablando)\n",
    "    def moverse (self, moviendose): \n",
    "        print (\"Cuando me muevo\" + moviendose)\n",
    "\n",
    "#ATRIBUTOS\n",
    "mi_pez = Pescado(\"Nemo \", \"rojo\") #Mi objeto es mi_pez, mi clase es pescado, yo quiero saber el nombre de mi objeto entonc\n",
    "print(type(mi_pez)) #el tipo de dato que es\n",
    "print(Pescado.especimen) \n",
    "\n",
    "print(\"Me llamo \" + mi_pez.nombre + \"y soy un \" + Pescado.especimen + \" de color \" + mi_pez.color) #Como es clase tengo que llamarle osea de Pescado traeme especimen\n",
    "print(mi_pez.nombre) #yo quiero saber el nombre de mi objeto entonces llamo a mi objeto y su nombre correspondiente\n",
    "\n",
    "#METODO #1\n",
    "print(\"Cuando hablo \" + mi_pez.hablar() + \"Cuando me muevo \" + mi_pez.Moverse()) #parentesis pq es una accion osea un metodo\n",
    "#METODO #2\n",
    "mi_pez.hablando(\"hola\")\n",
    "mi_pez.moviendose(\"corre\")"
   ]
  },
  {
   "cell_type": "markdown",
   "metadata": {},
   "source": [
    "atributos de clase: algo que tienen en comun todos son para todos, un ato si o si tiene 4 ruedas \n",
    "atributos de instancia = algo especifico cada uno \n",
    "format es para no complicarse con las comillas "
   ]
  },
  {
   "cell_type": "code",
   "execution_count": 78,
   "metadata": {},
   "outputs": [
    {
     "name": "stdout",
     "output_type": "stream",
     "text": [
      "(<class '__main__.Animal'>,)\n",
      "Piton\n",
      "10\n",
      "ssSsssSSSSsssS\n",
      "Soy un animal del tipo Serpiente\n"
     ]
    }
   ],
   "source": [
    "class Animal:\n",
    "    def __init__(self, especie, edad):\n",
    "        self.especie = especie\n",
    "        self.edad = edad\n",
    "\n",
    "    # Método genérico pero con implementación particular\n",
    "    def hablar(self):\n",
    "        # Método vacío\n",
    "        pass\n",
    "\n",
    "    # Método genérico con la misma implementación\n",
    "    def describeme(self):\n",
    "        print(\"Soy un animal del tipo\", type(self).__name__)\n",
    "\n",
    "class Serpiente(Animal):\n",
    "    # Definiendo un atributo de clase\n",
    "    clase = \"Reptil\"\n",
    "\n",
    "    def hablar(self):\n",
    "        print(\"ssSsssSSSSsssS\")\n",
    "\n",
    "# Corroborar la herencia\n",
    "print(Serpiente.__bases__)\n",
    "\n",
    "mi_serpiente = Serpiente(\"Piton\", 10)\n",
    "print(mi_serpiente.especie)\n",
    "print(mi_serpiente.edad)\n",
    "\n",
    "mi_serpiente.hablar()\n",
    "mi_serpiente.describeme()\n"
   ]
  },
  {
   "cell_type": "code",
   "execution_count": 94,
   "metadata": {},
   "outputs": [
    {
     "name": "stdout",
     "output_type": "stream",
     "text": [
      "humana\n",
      "30\n",
      "humano\n"
     ]
    }
   ],
   "source": [
    "class Madre:\n",
    "    tipo_humano = \"humano\"\n",
    "    def __init__(self): \n",
    "        self.especie = \"humana\"\n",
    "        self.edad = \"30\"\n",
    "\n",
    "class Hija (Madre):\n",
    "    pass\n",
    "\n",
    "mi_hija = Hija() #la clase es un molde vacio y es por eso que cree un objeto\n",
    "\n",
    "print(mi_hija.especie)\n",
    "print(mi_hija.edad)\n",
    "print(mi_hija.tipo_humano)"
   ]
  },
  {
   "cell_type": "code",
   "execution_count": 95,
   "metadata": {},
   "outputs": [
    {
     "name": "stdout",
     "output_type": "stream",
     "text": [
      "humana\n",
      "30\n",
      "humano\n"
     ]
    }
   ],
   "source": [
    "class Madre:\n",
    "    tipo_humano = \"humano\"\n",
    "    def __init__(self,especie,edad): \n",
    "        self.especie = especie\n",
    "        self.edad = edad\n",
    "\n",
    "class Hija (Madre):\n",
    "    pass\n",
    "\n",
    "mi_hija = Hija(\"humana\",30) #la clase es un molde vacio y es por eso que cree un objeto\n",
    "\n",
    "print(mi_hija.especie)\n",
    "print(mi_hija.edad)\n",
    "print(mi_hija.tipo_humano)\n",
    "\n",
    "\n",
    "#type llama a categorias "
   ]
  },
  {
   "cell_type": "markdown",
   "metadata": {},
   "source": [
    "_____\n"
   ]
  },
  {
   "cell_type": "markdown",
   "metadata": {},
   "source": [
    "Diccionario es una coleccion de pares que estan formados por una clave y un ...\n"
   ]
  },
  {
   "cell_type": "code",
   "execution_count": 98,
   "metadata": {},
   "outputs": [
    {
     "name": "stdout",
     "output_type": "stream",
     "text": [
      "{'nombre': 'Enmanuel', 'apellido': 'Ruffinelli', 'email': 'e@ruffinel.li'}\n",
      "Enmanuel e@ruffinel.li\n",
      "{'nombre': 'Enmanuel', 'apellido': 'Ruffinelli', 'email': 'e@ruffinel.li', 'barrio': 'Los Laureles'}\n",
      "{'nombre': 'Enmanuel', 'apellido': 'Ruffinelli', 'email': 'e@ruffinel.li', 'barrio': 'Recoleta'}\n",
      "{'nombre': 'Enmanuel', 'apellido': 'Ruffinelli', 'email': 'e@ruffinel.li'}\n",
      "{'nombre': 'Enmanuel', 'email': 'e@ruffinel.li'}\n"
     ]
    }
   ],
   "source": [
    "# Ejemplo de diccionario\n",
    " \n",
    "mi_contacto = { \"nombre\": \"Enmanuel\", \"apellido\": \"Ruffinelli\", \"email\": \"e@ruffinel.li\" }\n",
    " \n",
    "{\n",
    "    \"nombre\": \"Enmanuel\",\n",
    "    \"apellido\": \"Ruffinelli\",\n",
    "    \"email\": \"e@ruffinel.li\"\n",
    "}\n",
    " \n",
    "# Imprimir el diccionario\n",
    "print(mi_contacto)\n",
    " \n",
    "# Acceder a datos del diccionario\n",
    "print(mi_contacto[\"nombre\"], mi_contacto[\"email\"])\n",
    " \n",
    "# Añadir datos al diccionario\n",
    "mi_contacto[\"barrio\"] = \"Los Laureles\"\n",
    "print(mi_contacto)\n",
    " \n",
    "# Actualizar datos del diccionario\n",
    "mi_contacto[\"barrio\"] = \"Recoleta\"\n",
    "print(mi_contacto)\n",
    " \n",
    "# Eliminar datos del diccionario: ultimo par\n",
    "mi_contacto.popitem()\n",
    "print(mi_contacto)\n",
    " \n",
    "# Eliminar datos del diccionario: por clave\n",
    "del mi_contacto[\"apellido\"]\n",
    "print(mi_contacto)"
   ]
  },
  {
   "cell_type": "code",
   "execution_count": 117,
   "metadata": {},
   "outputs": [
    {
     "name": "stdout",
     "output_type": "stream",
     "text": [
      "{'': ''}\n"
     ]
    }
   ],
   "source": [
    "#Datos de una persona \n",
    "informacion_deseada = {} #Estableci un diccionario vacio\n",
    "seguir_preguntando = True #Establezco mi variable que dice que seguir preguntando es true \n",
    "\n",
    "while seguir_preguntando: #le agregue la variable seguir_preguntando, si esta variable se cumple entonces sigue.\n",
    "    clave = input(\"Agregue el dato que quiera\") #ingresa el dato\n",
    "    valor = input(\"agregue la informacion del dato\") #ingresa el dato\n",
    "    informacion_deseada[clave] = valor #Anadir datos, por ejemplo direccion y capitan avalos 1544 y que siga la lista.\n",
    "    print (informacion_deseada) #imprimo la informacion que el usuario ingreso\n",
    "\n",
    "    seguir_preguntando = input(\"Queres seguir anadiendo datos\") == \"si\" #si responde algo que sea distinto a si entonces para de pedir la info pq ya es false entonces no sigue \n",
    "#si no es igual va a ser false y es false en loop termina"
   ]
  },
  {
   "cell_type": "code",
   "execution_count": null,
   "metadata": {},
   "outputs": [],
   "source": []
  },
  {
   "cell_type": "code",
   "execution_count": 127,
   "metadata": {},
   "outputs": [
    {
     "name": "stdout",
     "output_type": "stream",
     "text": [
      "{'nombre': 'estrella'}\n",
      "{'nombre': 'fiorella'}\n"
     ]
    },
    {
     "ename": "KeyboardInterrupt",
     "evalue": "Interrupted by user",
     "output_type": "error",
     "traceback": [
      "\u001b[0;31m---------------------------------------------------------------------------\u001b[0m",
      "\u001b[0;31mKeyboardInterrupt\u001b[0m                         Traceback (most recent call last)",
      "\u001b[1;32m/home/labdoo/Escritorio/Workshop raspberry/dia5.ipynb Cell 13'\u001b[0m in \u001b[0;36m<cell line: 5>\u001b[0;34m()\u001b[0m\n\u001b[1;32m      <a href='vscode-notebook-cell:/home/labdoo/Escritorio/Workshop%20raspberry/dia5.ipynb#ch0000013?line=3'>4</a>\u001b[0m \u001b[39mwhile\u001b[39;00m \u001b[39mTrue\u001b[39;00m: \n\u001b[1;32m      <a href='vscode-notebook-cell:/home/labdoo/Escritorio/Workshop%20raspberry/dia5.ipynb#ch0000013?line=4'>5</a>\u001b[0m     \u001b[39mif\u001b[39;00m datos \u001b[39m==\u001b[39m \u001b[39m1\u001b[39m: \u001b[39m#agregar datos\u001b[39;00m\n\u001b[0;32m----> <a href='vscode-notebook-cell:/home/labdoo/Escritorio/Workshop%20raspberry/dia5.ipynb#ch0000013?line=5'>6</a>\u001b[0m         clave \u001b[39m=\u001b[39m \u001b[39minput\u001b[39;49m(\u001b[39m\"\u001b[39;49m\u001b[39mAgregue el dato que quiera\u001b[39;49m\u001b[39m\"\u001b[39;49m) \u001b[39m#ingresa el dato\u001b[39;00m\n\u001b[1;32m      <a href='vscode-notebook-cell:/home/labdoo/Escritorio/Workshop%20raspberry/dia5.ipynb#ch0000013?line=6'>7</a>\u001b[0m         valor \u001b[39m=\u001b[39m \u001b[39minput\u001b[39m(\u001b[39m\"\u001b[39m\u001b[39magregue la informacion del dato\u001b[39m\u001b[39m\"\u001b[39m) \u001b[39m#ingresa el dato\u001b[39;00m\n\u001b[1;32m      <a href='vscode-notebook-cell:/home/labdoo/Escritorio/Workshop%20raspberry/dia5.ipynb#ch0000013?line=7'>8</a>\u001b[0m         Tarjeta_personal[clave] \u001b[39m=\u001b[39m valor \n",
      "File \u001b[0;32m~/.local/lib/python3.8/site-packages/ipykernel/kernelbase.py:1075\u001b[0m, in \u001b[0;36mKernel.raw_input\u001b[0;34m(self, prompt)\u001b[0m\n\u001b[1;32m   <a href='file:///~/.local/lib/python3.8/site-packages/ipykernel/kernelbase.py?line=1070'>1071</a>\u001b[0m \u001b[39mif\u001b[39;00m \u001b[39mnot\u001b[39;00m \u001b[39mself\u001b[39m\u001b[39m.\u001b[39m_allow_stdin:\n\u001b[1;32m   <a href='file:///~/.local/lib/python3.8/site-packages/ipykernel/kernelbase.py?line=1071'>1072</a>\u001b[0m     \u001b[39mraise\u001b[39;00m StdinNotImplementedError(\n\u001b[1;32m   <a href='file:///~/.local/lib/python3.8/site-packages/ipykernel/kernelbase.py?line=1072'>1073</a>\u001b[0m         \u001b[39m\"\u001b[39m\u001b[39mraw_input was called, but this frontend does not support input requests.\u001b[39m\u001b[39m\"\u001b[39m\n\u001b[1;32m   <a href='file:///~/.local/lib/python3.8/site-packages/ipykernel/kernelbase.py?line=1073'>1074</a>\u001b[0m     )\n\u001b[0;32m-> <a href='file:///~/.local/lib/python3.8/site-packages/ipykernel/kernelbase.py?line=1074'>1075</a>\u001b[0m \u001b[39mreturn\u001b[39;00m \u001b[39mself\u001b[39;49m\u001b[39m.\u001b[39;49m_input_request(\n\u001b[1;32m   <a href='file:///~/.local/lib/python3.8/site-packages/ipykernel/kernelbase.py?line=1075'>1076</a>\u001b[0m     \u001b[39mstr\u001b[39;49m(prompt),\n\u001b[1;32m   <a href='file:///~/.local/lib/python3.8/site-packages/ipykernel/kernelbase.py?line=1076'>1077</a>\u001b[0m     \u001b[39mself\u001b[39;49m\u001b[39m.\u001b[39;49m_parent_ident[\u001b[39m\"\u001b[39;49m\u001b[39mshell\u001b[39;49m\u001b[39m\"\u001b[39;49m],\n\u001b[1;32m   <a href='file:///~/.local/lib/python3.8/site-packages/ipykernel/kernelbase.py?line=1077'>1078</a>\u001b[0m     \u001b[39mself\u001b[39;49m\u001b[39m.\u001b[39;49mget_parent(\u001b[39m\"\u001b[39;49m\u001b[39mshell\u001b[39;49m\u001b[39m\"\u001b[39;49m),\n\u001b[1;32m   <a href='file:///~/.local/lib/python3.8/site-packages/ipykernel/kernelbase.py?line=1078'>1079</a>\u001b[0m     password\u001b[39m=\u001b[39;49m\u001b[39mFalse\u001b[39;49;00m,\n\u001b[1;32m   <a href='file:///~/.local/lib/python3.8/site-packages/ipykernel/kernelbase.py?line=1079'>1080</a>\u001b[0m )\n",
      "File \u001b[0;32m~/.local/lib/python3.8/site-packages/ipykernel/kernelbase.py:1120\u001b[0m, in \u001b[0;36mKernel._input_request\u001b[0;34m(self, prompt, ident, parent, password)\u001b[0m\n\u001b[1;32m   <a href='file:///~/.local/lib/python3.8/site-packages/ipykernel/kernelbase.py?line=1116'>1117</a>\u001b[0m             \u001b[39mbreak\u001b[39;00m\n\u001b[1;32m   <a href='file:///~/.local/lib/python3.8/site-packages/ipykernel/kernelbase.py?line=1117'>1118</a>\u001b[0m \u001b[39mexcept\u001b[39;00m \u001b[39mKeyboardInterrupt\u001b[39;00m:\n\u001b[1;32m   <a href='file:///~/.local/lib/python3.8/site-packages/ipykernel/kernelbase.py?line=1118'>1119</a>\u001b[0m     \u001b[39m# re-raise KeyboardInterrupt, to truncate traceback\u001b[39;00m\n\u001b[0;32m-> <a href='file:///~/.local/lib/python3.8/site-packages/ipykernel/kernelbase.py?line=1119'>1120</a>\u001b[0m     \u001b[39mraise\u001b[39;00m \u001b[39mKeyboardInterrupt\u001b[39;00m(\u001b[39m\"\u001b[39m\u001b[39mInterrupted by user\u001b[39m\u001b[39m\"\u001b[39m) \u001b[39mfrom\u001b[39;00m \u001b[39mNone\u001b[39m\n\u001b[1;32m   <a href='file:///~/.local/lib/python3.8/site-packages/ipykernel/kernelbase.py?line=1120'>1121</a>\u001b[0m \u001b[39mexcept\u001b[39;00m \u001b[39mException\u001b[39;00m:\n\u001b[1;32m   <a href='file:///~/.local/lib/python3.8/site-packages/ipykernel/kernelbase.py?line=1121'>1122</a>\u001b[0m     \u001b[39mself\u001b[39m\u001b[39m.\u001b[39mlog\u001b[39m.\u001b[39mwarning(\u001b[39m\"\u001b[39m\u001b[39mInvalid Message:\u001b[39m\u001b[39m\"\u001b[39m, exc_info\u001b[39m=\u001b[39m\u001b[39mTrue\u001b[39;00m)\n",
      "\u001b[0;31mKeyboardInterrupt\u001b[0m: Interrupted by user"
     ]
    }
   ],
   "source": [
    "#Datos de una persona \n",
    "Tarjeta_personal = {} \n",
    "datos = int(input(\"Elija su opcion 1 para crear datos, 2 para modificar datos y 3 para eliminar datos\")) \n",
    "while True: \n",
    "    if datos == 1: #agregar datos\n",
    "        clave = input(\"Agregue el dato que quiera\") #ingresa el dato\n",
    "        valor = input(\"agregue la informacion del dato\") #ingresa el dato\n",
    "        Tarjeta_personal[clave] = valor \n",
    "        print(Tarjeta_personal)\n",
    "        datos = int(input(\"Elija su opcion 1 para crear datos, 2 para modificar datos, 3 para eliminar datos y 4 si quiere terminar\")) \n",
    "    elif datos == 2: #modifico\n",
    "        clave = input(\"Agregue el dato que quiera\") #ingresa el dato\n",
    "        valor = input(\"agregue la informacion del dato que quiera cambiar\") #ingresa el dato\n",
    "        Tarjeta_personal[clave] = valor\n",
    "        print(Tarjeta_personal) #Quiero que me imprima mi tarjeta personal osea los datos que cargue\n",
    "        datos = int(input(\"Elija su opcion 1 para crear datos, 2 para modificar datos, 3 para eliminar datos y 4 si quiere terminar\")) \n",
    "    elif datos == 3: #elimino\n",
    "        del Tarjeta_personal[input(\"ingrese el nombre del dato \")]\n",
    "        print(Tarjeta_personal)\n",
    "        datos = int(input(\"Elija su opcion 1 para crear datos, 2 para modificar datos, 3 para eliminar datos y 4 si quiere terminar\")) \n",
    "    else : #SI no pasa lo anterior entonces BREAK\n",
    "        break\n",
    "\n"
   ]
  }
 ],
 "metadata": {
  "interpreter": {
   "hash": "916dbcbb3f70747c44a77c7bcd40155683ae19c65e1c03b4aa3499c5328201f1"
  },
  "kernelspec": {
   "display_name": "Python 3.8.10 64-bit",
   "language": "python",
   "name": "python3"
  },
  "language_info": {
   "codemirror_mode": {
    "name": "ipython",
    "version": 3
   },
   "file_extension": ".py",
   "mimetype": "text/x-python",
   "name": "python",
   "nbconvert_exporter": "python",
   "pygments_lexer": "ipython3",
   "version": "3.8.10"
  },
  "orig_nbformat": 4
 },
 "nbformat": 4,
 "nbformat_minor": 2
}
