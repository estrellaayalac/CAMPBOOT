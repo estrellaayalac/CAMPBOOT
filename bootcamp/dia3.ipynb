{
 "cells": [
  {
   "cell_type": "code",
   "execution_count": 19,
   "metadata": {},
   "outputs": [
    {
     "name": "stdout",
     "output_type": "stream",
     "text": [
      "Integrante numero 1: ivana\n",
      "Integrante numero 2: dario\n",
      "Integrante numero 3: carlos\n",
      "Integrante numero 4: marcelo\n",
      "Integrante numero 5: liz\n",
      "Integrante numero 6: mario\n",
      "Integrante numero 7: estrella\n"
     ]
    }
   ],
   "source": [
    "lista_de_integrantes = [\"ivana\",\"dario\",\"carlos\",\"marcelo\",\"liz\",\"mario\",\"estrella\"]\n",
    "print(\"Integrante numero 1:\", lista_de_integrantes[0])\n",
    "print(\"Integrante numero 2:\",lista_de_integrantes[1])\n",
    "print(\"Integrante numero 3:\", lista_de_integrantes[2])\n",
    "print(\"Integrante numero 4:\", lista_de_integrantes[3])\n",
    "print(\"Integrante numero 5:\", lista_de_integrantes[4])\n",
    "print(\"Integrante numero 6:\", lista_de_integrantes[5])\n",
    "print(\"Integrante numero 7:\", lista_de_integrantes[6])\n",
    "\n"
   ]
  },
  {
   "cell_type": "code",
   "execution_count": 35,
   "metadata": {},
   "outputs": [
    {
     "name": "stdout",
     "output_type": "stream",
     "text": [
      "[['e', 'l', 'e', 'f', 'a', 'n', 't', 'e']]\n",
      "[['e', 'l', 'e', 'f', 'a', 'n', 't', 'e'], ['p', 'e', 'r', 'r', 'o']]\n",
      "[['e', 'l', 'e', 'f', 'a', 'n', 't', 'e'], ['p', 'e', 'r', 'r', 'o'], ['e', 'l', 'e', 'f', 'a', 'n', 't', 'e']]\n"
     ]
    }
   ],
   "source": [
    "palabras = input(\"Ingresa un nombre\") \n",
    "palabras = list(palabras)\n",
    "\n",
    "palabras_ingresadas= []\n",
    "palabras_ingresadas.append(palabras)\n",
    "print(palabras_ingresadas)\n",
    "\n",
    "\n",
    "palabra2 = input(\"Ingresa un nombre\")\n",
    "palabra2 = list(palabra2)\n",
    "palabras_ingresadas.append(palabra2)\n",
    "print(palabras_ingresadas)\n",
    "\n",
    "palabra3 = input(\"Ingresa un nombre\")\n",
    "palabra3 = list(palabra3)\n",
    "\n",
    "palabras_ingresadas.append(palabra3)\n",
    "print(palabras_ingresadas)\n",
    "\n",
    "\n"
   ]
  },
  {
   "cell_type": "code",
   "execution_count": null,
   "metadata": {},
   "outputs": [],
   "source": [
    "#bucles\n",
    "##bucle interactivo for\n",
    "palabra = input(\"introduzca palabra\")\n",
    "for letra in palabra: #por cada letra en palabra imprimir cada letra\n",
    "    print(letra)\n",
    "\n"
   ]
  },
  {
   "cell_type": "code",
   "execution_count": 4,
   "metadata": {},
   "outputs": [
    {
     "name": "stdout",
     "output_type": "stream",
     "text": [
      "volve a intentarlo\n",
      "volve a intentarlo\n",
      "volve a intentarlo\n",
      "ganaste\n"
     ]
    }
   ],
   "source": [
    "palabra_ganadora = \"mate\"\n",
    "while True: #\n",
    "    frase = input(\"Introduce un texto\") #pedimos al usuario\n",
    "    if frase == palabra_ganadora: #establecemos una condicion, usamos if #si la frase es igual a la palabra ganadora entonces \n",
    "        print(\"ganaste\")\n",
    "        break \n",
    "    else:\n",
    "        print(\"volve a intentarlo\")"
   ]
  },
  {
   "cell_type": "code",
   "execution_count": null,
   "metadata": {},
   "outputs": [],
   "source": [
    "palabra = \"serio\"\n",
    "contador = 0\n",
    "contador = 3\n",
    "usuario = input(\"introduje una palabra\")\n",
    "\n",
    "while True:\n",
    "    contador = contador + 1 \n",
    "    intentos = contador - 1\n",
    "    if palabra == usuario:\n",
    "        print(\"Respuesta correcta.Intento\", contador)\n",
    "        break\n",
    "    if intentos ==0:\n",
    "        print(\"Fallaste:\")\n",
    "        break\n",
    "    usuario = input(\"intente de nuevo tenes {} intentos\".format"
   ]
  },
  {
   "cell_type": "code",
   "execution_count": null,
   "metadata": {},
   "outputs": [],
   "source": [
    "#Continuacion del wordle\n",
    "#Definir la cantidad de letras de la palabra a encontrar\n",
    "cantidad_de_letras_de_una_palabra_a_encontrar = 5\n",
    "#Crear una lista vacia de los resultados\n",
    "resultado = []\n",
    "\n",
    "#Iteramos por cada letra de la palabra ingresada\n",
    "for posicion_de_la_letra in range(cantidad_de_letras_de_palabra_a_encontrar):\n",
    "\n",
    "#Si las letras existen en la palabra a encontrar z sus posiciones coinciden: Encerrarlas en [] z agregar al resultado\n",
    "las_letra_existe_en_la_palabra_a_encontrar = letra_a_verificar in letra_de_la_palabra_a_encontrar"
   ]
  },
  {
   "cell_type": "code",
   "execution_count": 7,
   "metadata": {},
   "outputs": [],
   "source": [
    "# Crear una lista vacía para el resultado.\n",
    "# Definir la cantidad de letras de la palabra a encontrar\n",
    "# Si las letras existen en la palabra a encontrar y sus posiciones coinciden: Encerrarlas en [] y agregar al resultado.\n",
    "# Si las letras existen en la palabra a encontrar pero sus posiciones no coinciden: Encerrarlas en () y agregar al resultado.\n",
    "# Si no se cumple ninguna de las anteriores, agregar al resultado sin hacer modificaciones.\n",
    "# Retornar el resultado.\n",
    " \n",
    "def obtener_fila_verificada(letras_de_la_palabra_a_encontrar, letras_de_la_palabra_ingresada):\n",
    " \n",
    "    # Definir la cantidad de letras de la palabra a encontrar\n",
    "    cantidad_de_letras_de_palabra_a_encontrar = 5\n",
    " \n",
    "    # Creamos una lista vacía para almacenar el resultado de una linea\n",
    "    resultado = [] \n",
    " \n",
    "    # Iteramos por cada letra de la palabra ingresada\n",
    "    for posicion_de_la_letra in range(cantidad_de_letras_de_palabra_a_encontrar):\n",
    " \n",
    "        letra_a_verificar = letras_de_la_palabra_ingresada[posicion_de_la_letra]\n",
    " \n",
    "        # Si las letras existen en la palabra a encontrar y sus posiciones coinciden: Encerrarlas en [] y agregar al resultado.\n",
    "        las_letras_son_iguales = letras_de_la_palabra_a_encontrar[posicion_de_la_letra] == letra_a_verificar\n",
    " \n",
    "        # Si las letras existen en la palabra a encontrar pero sus posiciones no coinciden: Encerrarlas en () y agregar al resultado.\n",
    "        la_letra_existe_en_la_palabra_a_encontrar = letra_a_verificar in letras_de_la_palabra_a_encontrar\n",
    " \n",
    "        if las_letras_son_iguales:\n",
    " \n",
    "            # Guardar las letras que están en la palabra a encontrar y coinciden en la posición, dentro de brackets\n",
    "            resultado.append(\"[\" + letra_a_verificar + \"]\")\n",
    " \n",
    "        elif la_letra_existe_en_la_palabra_a_encontrar:\n",
    " \n",
    "            # Guardar las letras que no coinciden pero que están en la palabra a encontrar, dentro de parentesis\n",
    "            resultado.append(\"(\" + letra_a_verificar + \")\")\n",
    "        \n",
    "        else:\n",
    " \n",
    "            resultado.append(letra_a_verificar)\n",
    " \n",
    "    return resultado"
   ]
  },
  {
   "cell_type": "code",
   "execution_count": 11,
   "metadata": {},
   "outputs": [],
   "source": [
    "# Crear una lista vacía para el resultado.\n",
    "# Definir la cantidad de letras de la palabra a encontrar\n",
    "# Si las letras existen en la palabra a encontrar y sus posiciones coinciden: Encerrarlas en [] y agregar al resultado.\n",
    "# Si las letras existen en la palabra a encontrar pero sus posiciones no coinciden: Encerrarlas en () y agregar al resultado.\n",
    "# Si no se cumple ninguna de las anteriores, agregar al resultado sin hacer modificaciones.\n",
    "# Retornar el resultado.\n",
    "\n",
    "def obtener_fila_verificada(letras_de_la_palabra_a_encontrar, letras_de_la_palabra_ingresada):\n",
    "\n",
    "    # Definir la cantidad de letras de la palabra a encontrar\n",
    "    cantidad_de_letras_de_palabra_a_encontrar = 5\n",
    "\n",
    "    # Creamos una lista vacía para almacenar el resultado de una linea\n",
    "    resultado = [] \n",
    "\n",
    "    # Iteramos por cada letra de la palabra ingresada\n",
    "    for posicion_de_la_letra in range(cantidad_de_letras_de_palabra_a_encontrar):\n",
    "\n",
    "        letra_a_verificar = letras_de_la_palabra_ingresada[posicion_de_la_letra]\n",
    "\n",
    "        # Si las letras existen en la palabra a encontrar y sus posiciones coinciden: Encerrarlas en [] y agregar al resultado.\n",
    "        las_letras_son_iguales = letras_de_la_palabra_a_encontrar[posicion_de_la_letra] == letra_a_verificar\n",
    "\n",
    "        # Si las letras existen en la palabra a encontrar pero sus posiciones no coinciden: Encerrarlas en () y agregar al resultado.\n",
    "        la_letra_existe_en_la_palabra_a_encontrar = letra_a_verificar in letras_de_la_palabra_a_encontrar\n",
    "\n",
    "        if las_letras_son_iguales:\n",
    "\n",
    "            # Guardar las letras que están en la palabra a encontrar y coinciden en la posición, dentro de brackets\n",
    "            resultado.append(\"[\" + letra_a_verificar + \"]\")\n",
    "\n",
    "        elif la_letra_existe_en_la_palabra_a_encontrar:\n",
    "\n",
    "            # Guardar las letras que no coinciden pero que están en la palabra a encontrar, dentro de parentesis\n",
    "            resultado.append(\"(\" + letra_a_verificar + \")\")\n",
    "        \n",
    "        else:\n",
    "\n",
    "            resultado.append(letra_a_verificar)\n",
    "\n",
    "    return resultado"
   ]
  },
  {
   "cell_type": "code",
   "execution_count": null,
   "metadata": {},
   "outputs": [],
   "source": [
    "lista_de_letras_de_la_palabra_a_encontrar = list(\"cielo\")\n",
    "lista_de_letras_de_la_palabra_ingresada = list(\"calor\")\n",
    "obetener_fila_verificacion(lista_de_letras_de)"
   ]
  },
  {
   "cell_type": "code",
   "execution_count": 12,
   "metadata": {},
   "outputs": [
    {
     "ename": "SyntaxError",
     "evalue": "invalid syntax (1186808232.py, line 2)",
     "output_type": "error",
     "traceback": [
      "\u001b[0;36m  Input \u001b[0;32mIn [12]\u001b[0;36m\u001b[0m\n\u001b[0;31m    print(nuestra_grilla)\u001b[0m\n\u001b[0m    ^\u001b[0m\n\u001b[0;31mSyntaxError\u001b[0m\u001b[0;31m:\u001b[0m invalid syntax\n"
     ]
    }
   ],
   "source": [
    "nuestra_grilla = [[list[gato][perro][elefante][cerdito][jirafa]]\n",
    "print"
   ]
  },
  {
   "cell_type": "code",
   "execution_count": 38,
   "metadata": {},
   "outputs": [
    {
     "name": "stdout",
     "output_type": "stream",
     "text": [
      "['c', 'o', 'l', 'o', 'r']\n",
      "['s', 'a', 'l', 'u', 'd']\n",
      "['c', 'o', 's', 't', 'a']\n",
      "['c', 'e', 'n', 'a', 'r']\n"
     ]
    }
   ],
   "source": [
    "nuestra_grilla = [[\"c\", \"o\", \"l\", \"o\", \"r\"], [\"s\", \"a\", \"l\", \"u\", \"d\"], [\"c\", \"o\", \"s\", \"t\", \"a\"], [\"c\", \"e\", \"n\", \"a\", \"r\"], [\"c\", \"o\", \"m\", \"e\", \"r\"]]\n",
    "\n",
    "print(nuestra_grilla[0])\n",
    "print(nuestra_grilla[1])\n",
    "print(nuestra_grilla[2])\n",
    "print(nuestra_grilla[3])"
   ]
  },
  {
   "cell_type": "code",
   "execution_count": 43,
   "metadata": {},
   "outputs": [
    {
     "name": "stdout",
     "output_type": "stream",
     "text": [
      "['c', 'o', 'l', 'o', 'r']\n",
      "['s', 'a', 'l', 'u', 'd']\n",
      "['c', 'o', 's', 't', 'a']\n",
      "['c', 'e', 'n', 'a', 'r']\n",
      "['c', 'o', 'm', 'e', 'r']\n"
     ]
    }
   ],
   "source": [
    "datos = [[\"c\", \"o\", \"l\", \"o\", \"r\"], [\"s\", \"a\", \"l\", \"u\", \"d\"], [\"c\", \"o\", \"s\", \"t\", \"a\"], [\"c\", \"e\", \"n\", \"a\", \"r\"], [\"c\", \"o\", \"m\", \"e\", \"r\"]]\n",
    "\n",
    "def imprimir_grilla(grilla) : #funcion es imprimir grilla, grilla es mi parametro. Los datos de la grilla se mandan a imprimir\n",
    "    for itegrador in grilla: #cada vey que busca imprima cada vey el valor que es en ese momento\n",
    "        print(itegrador)\n",
    "\n",
    "\n",
    "imprimir_grilla(datos)"
   ]
  },
  {
   "cell_type": "code",
   "execution_count": 51,
   "metadata": {},
   "outputs": [
    {
     "name": "stdout",
     "output_type": "stream",
     "text": [
      "te quedan 3 intentos.\n",
      "te quedan 2 intentos.\n",
      "te quedan 1 intentos.\n"
     ]
    }
   ],
   "source": [
    "#intentos \n",
    "intentos = 3\n",
    "while intentos >0:\n",
    "    print(\"te quedan\",intentos,\"intentos.\")\n",
    "    palabra = input(\"Ingrese una palabra\")\n",
    "    intentos = intentos - 1 "
   ]
  }
 ],
 "metadata": {
  "interpreter": {
   "hash": "916dbcbb3f70747c44a77c7bcd40155683ae19c65e1c03b4aa3499c5328201f1"
  },
  "kernelspec": {
   "display_name": "Python 3.8.10 64-bit",
   "language": "python",
   "name": "python3"
  },
  "language_info": {
   "codemirror_mode": {
    "name": "ipython",
    "version": 3
   },
   "file_extension": ".py",
   "mimetype": "text/x-python",
   "name": "python",
   "nbconvert_exporter": "python",
   "pygments_lexer": "ipython3",
   "version": "3.8.10"
  },
  "orig_nbformat": 4
 },
 "nbformat": 4,
 "nbformat_minor": 2
}
